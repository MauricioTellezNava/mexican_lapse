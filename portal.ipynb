{
 "cells": [
  {
   "cell_type": "code",
   "execution_count": 7,
   "metadata": {},
   "outputs": [],
   "source": [
    "from PIL import Image\n",
    "import svgwrite"
   ]
  },
  {
   "cell_type": "code",
   "execution_count": 9,
   "metadata": {},
   "outputs": [],
   "source": [
    "\n",
    "def png_to_svg(input_path, output_path):\n",
    "    # Cargar la imagen como escala de grises\n",
    "    img = Image.open(input_path).convert('L')\n",
    "    pixels = img.load()\n",
    "    width, height = img.size\n",
    "\n",
    "    # Crear un archivo SVG nuevo\n",
    "    dwg = svgwrite.Drawing(output_path, profile='tiny')\n",
    "\n",
    "    # Iterar sobre los píxeles\n",
    "    for y in range(height):\n",
    "        for x in range(width):\n",
    "            if pixels[x, y] < 128:  # Umbral de color para decidir si es trazado\n",
    "                dwg.add(dwg.circle(center=(x, y), r=0.5, fill='black'))\n",
    "\n",
    "    dwg.save()\n",
    "\n",
    "# Uso de la función\n",
    "png_to_svg(r'C:\\Users\\danie\\Proyectos\\Portal web para Mexican Lapse\\static\\imagenes\\Captura de pantalla 2024-07-28 132115.png', \n",
    "           r'C:\\Users\\danie\\Proyectos\\Portal web para Mexican Lapse\\static\\imagenes\\result_img.svg')\n"
   ]
  }
 ],
 "metadata": {
  "kernelspec": {
   "display_name": "Python 3",
   "language": "python",
   "name": "python3"
  },
  "language_info": {
   "codemirror_mode": {
    "name": "ipython",
    "version": 3
   },
   "file_extension": ".py",
   "mimetype": "text/x-python",
   "name": "python",
   "nbconvert_exporter": "python",
   "pygments_lexer": "ipython3",
   "version": "3.9.13"
  }
 },
 "nbformat": 4,
 "nbformat_minor": 2
}
